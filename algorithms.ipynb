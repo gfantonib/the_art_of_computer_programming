{
 "cells": [
  {
   "cell_type": "markdown",
   "metadata": {},
   "source": [
    "# Fundamental Algorithms\n",
    "\n",
    "The Art of Computer Programming\n",
    "\n",
    "Donald E. Knuth\n",
    "\n",
    "Volume 1"
   ]
  },
  {
   "cell_type": "markdown",
   "metadata": {},
   "source": [
    "The process of preparing programs for a digital computer is especially attractive, not only because it can be economically and scientifically rewarding, but also because it can be an aesthetic experience much like composing poetry or\n",
    "music."
   ]
  },
  {
   "cell_type": "markdown",
   "metadata": {},
   "source": [
    "## Chapter 1 - Basic Concepts"
   ]
  },
  {
   "cell_type": "markdown",
   "metadata": {},
   "source": [
    "### 1.1 Algorithms"
   ]
  },
  {
   "cell_type": "markdown",
   "metadata": {},
   "source": [
    "Finally, historians of mathematics found the true origin of the word algorism: It comes from the name of a famous Persian textbook author, Abu ‘Abd Allah Muhammad\n",
    "ibn Musa al-Khwarizmi (c. 825) — literally, “Father of Abdullah, Mohammed,\n",
    "son of Moses, native of Khwarizm.” The Aral Sea in Central Asia was once\n",
    "known as Lake Khwarizm, and the Khwarizm region is located in the Amu River\n",
    "basin just south of that sea. Al-Khwarizmi wrote the celebrated Arabic text\n",
    "Kitab al-jabr wa’l-muqabala (“Rules of restoring and equating”); another word,\n",
    "“algebra,” stems from the title of that book, which was a systematic study of the\n",
    "solution of linear and quadratic equations.\n",
    "\n",
    "Gradually the form and meaning of algorism became corrupted; as ex plained by the Oxford English Dictionary, the word “passed through many pseudo-etymological perversions, including a recent algorithm, in which it is\n",
    "learnedly confused” with the Greek root of the word arithmetic. This change\n",
    "from “algorism” to “algorithm” is not hard to understand in view of the fact\n",
    "that people had forgotten the original derivation of the word."
   ]
  },
  {
   "cell_type": "markdown",
   "metadata": {},
   "source": [
    "So much for the form of algorithms; now let us perform one. It should be\n",
    "mentioned immediately that the reader should not expect to read an algorithm\n",
    "as if it were part of a novel; such an attempt would make it pretty difficult to\n",
    "understand what is going on. An algorithm must be seen to be believed, and the\n",
    "best way to learn what an algorithm is all about is to try it. The reader should\n",
    "always take pencil and paper and work through an example of each algorithm\n",
    "immediately upon encountering it in the text."
   ]
  },
  {
   "cell_type": "markdown",
   "metadata": {},
   "source": [
    "Besides merely being a finite set of rules that gives a sequence of operations for solving a specific type of problem, an algorithm has five important features:\n",
    "\n",
    "1) **Finiteness**. An algorithm must always terminate after a finite number of\n",
    "steps. Note, however, that the number of steps can become arbitrarily large. A procedure that has all of the characteristics of an algorithm except that it\n",
    "possibly lacks finiteness may be called a computational method.\n",
    "\n",
    "2) **Definiteness**. Each step of an algorithm must be precisely defined; the actions to be carried out must be rigorously and unambiguously specified for each case The algorithms of this book will hopefully meet this criterion, but they are specified in the English language, so there is a possibility that the reader might not understand exactly what the author intended. To get around this difficulty, formally defined programming languages or computer languages are\n",
    "designed for specifying algorithms, in which every statement has a very definite\n",
    "meaning. Many of the algorithms of this book will be given both in English\n",
    "and in a computer language. An expression of a computational method in a\n",
    "computer language is called a program.\n",
    "\n",
    "3) **Input**. An algorithm has zero or more inputs: quantities that are given to it initially before the algorithm begins, or dynamically as the algorithm runs. These inputs are taken from specified sets of objects.\n",
    "\n",
    "4) **Output**. An algorithm has one or more outputs: quantities that have a\n",
    "specified relation to the inputs.\n",
    "\n",
    "5) **Effectiveness**. An algorithm is also generally expected to be effective, in the sense that its operations must all be sufficiently basic that they can in principle be done exactly and in a finite length of time by someone using pencil and paper. Another example of a noneffective step is, “If 4 is the largest integer $n$ for which there is a solution to the equation $w^n + x^n + y^n = z^n$ in positive integers $w$, $x$, $y$, and $z$, then go to step E4.” Such a statement would not be an effective operation until someone successfully constructs an algorithm to determine whether 4 is or is not the largest integer with the stated property.\n",
    "\n",
    "\n"
   ]
  },
  {
   "cell_type": "markdown",
   "metadata": {},
   "source": [
    "We should remark that the finiteness restriction is not really strong enough\n",
    "for practical use. A useful algorithm should require not only a finite number\n",
    "of steps, but a very finite number, a reasonable number.\n",
    "\n",
    "In practice we not only want algorithms, we want algorithms that are good\n",
    "in some loosely defined aesthetic sense. One criterion of goodness is the length\n",
    "of time taken to perform the algorithm; this can be expressed in terms of the\n",
    "number of times each step is executed. Other criteria are the adaptability of the\n",
    "algorithm to different kinds of computers, its simplicity and elegance, etc.\n",
    "\n",
    "We often are faced with several algorithms for the same problem, and we\n",
    "must decide which is best. This leads us to the extremely interesting and\n",
    "all-important field of algorithmic analysis: Given an algorithm, we want to\n",
    "determine its performance characteristics."
   ]
  },
  {
   "cell_type": "markdown",
   "metadata": {},
   "source": [
    "So far our discussion of algorithms has been rather imprecise, and a mathematically oriented reader is justified in thinking that the preceding commentary makes a very shaky foundation on which to erect any theory about algorithms. We therefore close this section with a brief indication of one method by which the concept of algorithm can be firmly grounded in terms of mathematical set theory.\n",
    "\n",
    "Let us formally define a computational method to be a quadruple $(Q, I, \\Omega, f)$, in which $Q$ is a set containing subsets $I$ and $\\Omega$, and $f$ is a function from $Q$ into itself. Furthermore, $f$ should leave $\\Omega$ pointwise fixed; that is, $f(q)$ should equal $q$ for all elements $q$ of $\\Omega$. The four quantities $Q$, $I$, $\\Omega$, $f$ are intended to represent respectively the states of the computation, the input, the output, and the computational rule. Each input $x$ in the set $I$ defines a computational sequence, $x_0, x_1, x_2, \\ldots$, as follows:\n",
    "\n",
    "$$\n",
    "x_0 = x \\quad \\text{and} \\quad x_{k+1} = f(x_k) \\quad \\text{for} \\quad k \\geq 0.\n",
    "$$\n",
    "\n",
    "The computational sequence is said to terminate in $k$ steps if $k$ is the smallest integer for which $x_k$ is in $\\Omega$, and in this case, it is said to produce the output $x_k$ from $x$. (Notice that if $x_k$ is in $\\Omega$, so is $x_{k+1}$, because $x_{k+1} = x_k$ in such a case.) Some computational sequences may never terminate; an algorithm is a computational method that terminates in finitely many steps for all $x$ in $I$. \n",
    "\n",
    "Algorithm $E$ may, for example, be formalized in these terms as follows: Let $Q$ be the set of all singletons $(n)$, all ordered pairs $(m, n)$, and all ordered quadruples $(m, n, r, 1)$, $(m, n, r, 2)$, and $(m, n, p, 3)$, where $m$, $n$, and $p$ are positive integers and $r$ is a nonnegative integer. Let $I$ be the subset of all pairs $(m, n)$ and let $\\Omega$ be the subset of all singletons $(n)$. Let $f$ be defined as follows:\n",
    "\n",
    "$$\n",
    "f\\left((m, n)\\right) = (m, n, 0, 1);\n",
    "$$\n",
    "\n",
    "$$\n",
    "f\\left((n)\\right) = (n);\n",
    "$$\n",
    "\n",
    "$$\n",
    "f\\left((m, n, r, 1)\\right) = (m, n, \\text{remainder of } m \\text{ divided by } n, 2);\n",
    "$$\n",
    "\n",
    "$$\n",
    "f\\left((m, n, r, 2)\\right) =\n",
    "\\begin{cases} \n",
    "(n) & \\text{if } r = 0, \\\\\n",
    "(m, n, r, 3) & \\text{otherwise};\n",
    "\\end{cases}\n",
    "$$\n",
    "\n",
    "$$\n",
    "f\\left((m, n, p, 3)\\right) = (n, p, p, 1).\n",
    "$$\n",
    "\n",
    "\n",
    "\n"
   ]
  },
  {
   "cell_type": "code",
   "execution_count": null,
   "metadata": {},
   "outputs": [],
   "source": []
  }
 ],
 "metadata": {
  "kernelspec": {
   "display_name": "Python 3",
   "language": "python",
   "name": "python3"
  },
  "language_info": {
   "codemirror_mode": {
    "name": "ipython",
    "version": 3
   },
   "file_extension": ".py",
   "mimetype": "text/x-python",
   "name": "python",
   "nbconvert_exporter": "python",
   "pygments_lexer": "ipython3",
   "version": "3.8.10"
  }
 },
 "nbformat": 4,
 "nbformat_minor": 2
}
