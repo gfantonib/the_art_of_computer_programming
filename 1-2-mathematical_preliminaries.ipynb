{
 "cells": [
  {
   "cell_type": "markdown",
   "metadata": {},
   "source": [
    "# Fundamental Algorithms\n",
    "\n",
    "The Art of Computer Programming\n",
    "\n",
    "Donald E. Knuth\n",
    "\n",
    "Volume 1"
   ]
  },
  {
   "cell_type": "markdown",
   "metadata": {},
   "source": [
    "The process of preparing programs for a digital computer is especially attractive, not only because it can be economically and scientifically rewarding, but also because it can be an aesthetic experience much like composing poetry or\n",
    "music."
   ]
  },
  {
   "cell_type": "markdown",
   "metadata": {},
   "source": [
    "## Chapter 1 - Basic Concepts"
   ]
  },
  {
   "cell_type": "markdown",
   "metadata": {},
   "source": [
    "### 1.2 Mathematical Preliminaries"
   ]
  },
  {
   "cell_type": "markdown",
   "metadata": {},
   "source": [
    "In this section we shall investigate the mathematical notations that occur\n",
    "throughout The Art of Computer Programming, and we’ll derive several basic\n",
    "formulas that will be used repeatedly. Even a reader not concerned with the\n",
    "more complex mathematical derivations should at least become familiar with\n",
    "the meanings of the various formulas, so as to be able to use the results of the\n",
    "derivations.\n",
    "\n",
    "Mathematical notation is used for two main purposes in this book: to\n",
    "describe portions of an algorithm, and to analyze the performance character-\n",
    "istics of an algorithm. The notation used in descriptions of algorithms is quite\n",
    "simple, as explained in the previous section. When analyzing the performance\n",
    "of algorithms, we need to use other more specialized notations."
   ]
  },
  {
   "cell_type": "markdown",
   "metadata": {},
   "source": [
    "### 1.2.1 Mathematical Induction"
   ]
  },
  {
   "cell_type": "markdown",
   "metadata": {},
   "source": [
    "Let $P(n)$ be some statement about the integer $n$; for example, $P(n)$ might be\n",
    "“$n$ times $(n + 3)$ is an even number,” or “if $n \\ge 10$, then $2n > n^3$.” Suppose we\n",
    "want to prove that $P(n)$ is true for all positive integers $n$. An important way to\n",
    "do this is:\n",
    "\n",
    "a) Give a proof that $P(1)$ is true.\n",
    "\n",
    "b) Give a proof that “if all of $P(1), P(2), \\ldots, P(n)$ are true, then $P(n + 1)$ is\n",
    "also true”; this proof should be valid for any positive integer $n$.\n"
   ]
  },
  {
   "cell_type": "markdown",
   "metadata": {},
   "source": [
    "The concept of mathematical induction should be distinguished from what is usually called inductive reasoning in science. A scientist takes specific observations and creates, by “induction,” a general theory or hypothesis that accounts for these facts; for example, we might observe the five relations in (1), above, and formulate (2). In this sense, induction is no more than our best guess about the situation; mathematicians would call it an empirical result or a conjecture.\n",
    "\n",
    "Mathematical induction is quite different from induction in the sense just explained. It is not just guesswork, but a conclusive proof of a statement; indeed, it is a proof of infinitely many statements, one for each n. It has been called “induction” only because one must first decide somehow what is to be proved, before one can apply the technique of mathematical induction. Henceforth in this book we shall use the word induction only when we wish to imply proof by mathematical induction."
   ]
  },
  {
   "cell_type": "markdown",
   "metadata": {},
   "source": [
    "We define the Fibonacci sequence $F_0, F_1, F_2, \\ldots$ by the rule that $F_0 = 0$, $F_1 = 1$, and every further term is the sum of the preceding two. Thus the sequence begins $0, 1, 1, 2, 3, 5, 8, 13, \\ldots$; we will investigate it in detail in Section 1.2.8. We will now prove that if $\\phi$ is the number $\\frac{1 + \\sqrt{5}}{2}$ we have\n",
    "\n",
    "$$\n",
    "F_n \\leq \\phi^{n-1} \\tag{3}\n",
    "$$\n",
    "\n",
    "for all positive integers $n$. Call this formula $P(n)$.\n",
    "\n",
    "If $n = 1$, then $F_1 = 1 = \\phi^0 = \\phi^{1-1}$, so step (a) has been done. For step (b) we notice first that $P(2)$ is also true, since $F_2 = 1 < 1.6 < \\phi^1 = \\phi^{2-1}$. Now, if all of $P(1), P(2), \\ldots, P(n)$ are true and $n > 1$, we know in particular that $P(n - 1)$ and $P(n)$ are true; so $F_{n-1} \\leq \\phi^{n-2}$ and $F_n \\leq \\phi^{n-1}$. Adding these inequalities, we get\n",
    "\n",
    "$$\n",
    "F_{n+1} = F_{n-1} + F_n \\leq \\phi^{n-2} + \\phi^{n-1} = \\phi^{n-2} (1 + \\phi). \\tag{4}\n",
    "$$\n",
    "\n",
    "The important property of the number $\\phi$, indeed the reason we chose this number for this problem in the first place, is that\n",
    "\n",
    "$$\n",
    "1 + \\phi = \\phi^2. \\tag{5}\n",
    "$$\n",
    "\n",
    "Plugging (5) into (4) gives $F_{n+1} \\leq \\phi^n$, which is $P(n + 1)$. So step (b) has been done, and (3) has been proved by mathematical induction. Notice that we approached step (b) in two different ways here: We proved $P(n+1)$ directly when $n = 1$, and we used an inductive method when $n > 1$. This was necessary, since when $n = 1$ our reference to $P(n - 1) = P(0)$ would not have been legitimate.\n"
   ]
  }
 ],
 "metadata": {
  "kernelspec": {
   "display_name": "Python 3",
   "language": "python",
   "name": "python3"
  },
  "language_info": {
   "codemirror_mode": {
    "name": "ipython",
    "version": 3
   },
   "file_extension": ".py",
   "mimetype": "text/x-python",
   "name": "python",
   "nbconvert_exporter": "python",
   "pygments_lexer": "ipython3",
   "version": "3.8.10"
  }
 },
 "nbformat": 4,
 "nbformat_minor": 2
}
